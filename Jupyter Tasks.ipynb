{
 "cells": [
  {
   "cell_type": "markdown",
   "metadata": {},
   "source": [
    "# Tasks"
   ]
  },
  {
   "cell_type": "markdown",
   "metadata": {},
   "source": [
    "As part of The Emerging Technologies Module, we will be assigned four tasks regarding python to complete.\n",
    "\n",
    "These are my solutions to the Tasks assesment. The author is Neil Byrne - G00343624\n",
    "***"
   ]
  },
  {
   "cell_type": "markdown",
   "metadata": {},
   "source": [
    "# Task 1: \n",
    "Write a Python function called sqrt2 that calculates and prints to the screen the square root of 2 to 100 decimal places. Your code shouldnot depend on any module from the standard library1or otherwise.  You shouldresearch the task first and include references and a description of your algorithm. "
   ]
  },
  {
   "cell_type": "markdown",
   "metadata": {},
   "source": [
    "Square Root: The square of a number x is, by definition, a number y such that y2=x.[3]"
   ]
  },
  {
   "cell_type": "markdown",
   "metadata": {},
   "source": [
    "We can calculate the square root of a number by using Neton's method [1].\n",
    "To find the square root $z$ of a number $x$, we can iterate using the following equation.\n",
    "\n",
    "$$ z = z - z \\frac{z^2 - x} {2z} $$\n",
    "\n",
    "\n",
    "[1] A Tour of Go; Excercise: Loops and Functions; https://tour.golang.org/flowcontrol/8\n",
    "\n",
    "[2] Newton's method; https://en.wikipedia.org/wiki/Newton%27s_method\n",
    "\n",
    "[3] Square root of 100; https://socratic.org/questions/what-is-the-square-root-of-100"
   ]
  },
  {
   "cell_type": "code",
   "execution_count": 25,
   "metadata": {},
   "outputs": [],
   "source": [
    "def sqrt(x):\n",
    "    \"A function to calculate the square root of a number x\"\n",
    "    \n",
    "    # Initial guess for the square root of z.\n",
    "    z = x / 2\n",
    "    # Loop until we're happy with the accuracy.\n",
    "    while abs(x - (z * z)) > 0.00001:\n",
    "        #Caclucate a better guess for the square root.\n",
    "        z-= (z*z - x) / (2 * z)\n",
    "    # Return the (approximate) square root of x.\n",
    "    return z\n",
    "    \n",
    "    \n",
    "  "
   ]
  },
  {
   "cell_type": "markdown",
   "metadata": {},
   "source": [
    "  ##### Tests of the function\n",
    "  Here we test the function with some known values."
   ]
  },
  {
   "cell_type": "code",
   "execution_count": 26,
   "metadata": {
    "scrolled": true
   },
   "outputs": [
    {
     "data": {
      "text/plain": [
       "10.000000000107446"
      ]
     },
     "execution_count": 26,
     "metadata": {},
     "output_type": "execute_result"
    }
   ],
   "source": [
    "# Test the function of 100\n",
    "sqrt(100)"
   ]
  },
  {
   "cell_type": "markdown",
   "metadata": {},
   "source": [
    "Now to test if the answer is correct\n",
    "$$ y = 10.000000000107446 ≈ 10 $$\n",
    "$$ y2=x $$\n",
    "$$ 10^2 = 100 $$"
   ]
  },
  {
   "cell_type": "code",
   "execution_count": 27,
   "metadata": {},
   "outputs": [
    {
     "data": {
      "text/plain": [
       "1.4142156862745099"
      ]
     },
     "execution_count": 27,
     "metadata": {},
     "output_type": "execute_result"
    }
   ],
   "source": [
    "# Test the function on 2.\n",
    "sqrt(2)\n"
   ]
  },
  {
   "cell_type": "code",
   "execution_count": 29,
   "metadata": {},
   "outputs": [
    {
     "data": {
      "text/plain": [
       "1.4142135623730951"
      ]
     },
     "execution_count": 29,
     "metadata": {},
     "output_type": "execute_result"
    }
   ],
   "source": [
    "# To verify we can use the math library\n",
    "\n",
    "import math\n",
    "math.sqrt(2)"
   ]
  },
  {
   "cell_type": "markdown",
   "metadata": {},
   "source": [
    "$$ 1.4142156862745099 ≈ 1.4142135623730951 $$\n",
    "\n",
    "Our algorithm works! \n",
    "However we must produce an answer with 100 decimal places."
   ]
  },
  {
   "cell_type": "code",
   "execution_count": null,
   "metadata": {},
   "outputs": [],
   "source": []
  },
  {
   "cell_type": "code",
   "execution_count": 30,
   "metadata": {},
   "outputs": [
    {
     "data": {
      "text/plain": [
       "Decimal('1.414213562373095048801688724209698078569671875376948073176679737990732478462107038850387534327641573')"
      ]
     },
     "execution_count": 30,
     "metadata": {},
     "output_type": "execute_result"
    }
   ],
   "source": [
    "from decimal import *\n",
    "getcontext().prec = 100\n",
    "Decimal(2).sqrt()\n"
   ]
  },
  {
   "cell_type": "markdown",
   "metadata": {},
   "source": [
    "# Task 2:\n",
    "\n",
    "The  Chi-squared  test  for  independence  is  a  statisticalhypothesis test like at-test.  \n",
    "It is used to analyse whether two categorical variablesare independent.  The Wikipedia article gives the table below as an example [4],stating the Chi-squared value based on it is approximately 24.6. Usescipy.statsto verify this value and calculate the associatedpvalue.  You should include a shortnote with references justifying your analysis in a markdown cell."
   ]
  },
  {
   "cell_type": "markdown",
   "metadata": {},
   "source": [
    "Fortunately the scipy.stats class has a built in method to calculate the Chi-square[1]. From here we can then calculate the p value. \n",
    "\n",
    "\n",
    "[1] Scipy Docs https://docs.scipy.org/doc/scipy/reference/generated/scipy.stats.chisquare.html"
   ]
  },
  {
   "cell_type": "markdown",
   "metadata": {},
   "source": [
    " #####  Chi-Square Test\n",
    "This test is used when you are dealing with categoircal values rather\n",
    "than numerical. It is used to determine whether or not there is a\n",
    "correlelation between the associated values.\n",
    "\n",
    "Here we test the function with some known values."
   ]
  },
  {
   "cell_type": "code",
   "execution_count": 50,
   "metadata": {},
   "outputs": [],
   "source": [
    "# Scipy.stats.chisquare is the import we will be using\n",
    "from scipy.stats import chi2_contingency"
   ]
  },
  {
   "cell_type": "code",
   "execution_count": 51,
   "metadata": {},
   "outputs": [],
   "source": [
    "# Imports \n",
    "import seaborn as sns\n",
    "import pandas as pd\n",
    "import numpy as np"
   ]
  },
  {
   "cell_type": "code",
   "execution_count": 81,
   "metadata": {},
   "outputs": [
    {
     "data": {
      "text/html": [
       "<div>\n",
       "<style scoped>\n",
       "    .dataframe tbody tr th:only-of-type {\n",
       "        vertical-align: middle;\n",
       "    }\n",
       "\n",
       "    .dataframe tbody tr th {\n",
       "        vertical-align: top;\n",
       "    }\n",
       "\n",
       "    .dataframe thead th {\n",
       "        text-align: right;\n",
       "    }\n",
       "</style>\n",
       "<table border=\"1\" class=\"dataframe\">\n",
       "  <thead>\n",
       "    <tr style=\"text-align: right;\">\n",
       "      <th></th>\n",
       "      <th>A</th>\n",
       "      <th>B</th>\n",
       "      <th>C</th>\n",
       "      <th>D</th>\n",
       "      <th>Total</th>\n",
       "    </tr>\n",
       "  </thead>\n",
       "  <tbody>\n",
       "    <tr>\n",
       "      <th>White Collar</th>\n",
       "      <td>90</td>\n",
       "      <td>60</td>\n",
       "      <td>104</td>\n",
       "      <td>95</td>\n",
       "      <td>349</td>\n",
       "    </tr>\n",
       "    <tr>\n",
       "      <th>Blue Collar</th>\n",
       "      <td>30</td>\n",
       "      <td>50</td>\n",
       "      <td>51</td>\n",
       "      <td>20</td>\n",
       "      <td>151</td>\n",
       "    </tr>\n",
       "    <tr>\n",
       "      <th>No Collar</th>\n",
       "      <td>30</td>\n",
       "      <td>40</td>\n",
       "      <td>45</td>\n",
       "      <td>35</td>\n",
       "      <td>150</td>\n",
       "    </tr>\n",
       "    <tr>\n",
       "      <th>Total</th>\n",
       "      <td>150</td>\n",
       "      <td>150</td>\n",
       "      <td>200</td>\n",
       "      <td>150</td>\n",
       "      <td>349</td>\n",
       "    </tr>\n",
       "  </tbody>\n",
       "</table>\n",
       "</div>"
      ],
      "text/plain": [
       "                A    B    C    D   Total\n",
       "White Collar   90   60  104   95     349\n",
       "Blue Collar    30   50   51   20     151\n",
       "No Collar      30   40   45   35     150\n",
       "Total         150  150  200  150     349"
      ]
     },
     "execution_count": 81,
     "metadata": {},
     "output_type": "execute_result"
    }
   ],
   "source": [
    "# A dataframe saved container the Wikipedia example \n",
    "data = pd.read_csv('dataset.csv',header=1,sep=';',index_col=0)\n",
    "df = pd.DataFrame(data)\n",
    "df"
   ]
  },
  {
   "cell_type": "code",
   "execution_count": 119,
   "metadata": {},
   "outputs": [
    {
     "data": {
      "text/plain": [
       "array([[ 90,  60, 104,  95],\n",
       "       [ 30,  50,  51,  20],\n",
       "       [ 30,  40,  45,  35]])"
      ]
     },
     "execution_count": 119,
     "metadata": {},
     "output_type": "execute_result"
    }
   ],
   "source": [
    "# For this sum we do not need the totals\n",
    "# We will create a new table with no Totals\n",
    "\n",
    "observedValues = np.array([[90, 60, 104, 95], # White collar\n",
    "                  [30, 50,  51, 20], # Blue collar\n",
    "                  [30, 40,  45, 35]]) # No collar\n",
    "\n",
    "observedValues"
   ]
  },
  {
   "cell_type": "markdown",
   "metadata": {},
   "source": [
    "SciPy has a built in function that will produce the Chi-Sqaure, degree of freedom and the expected array\n",
    "https://docs.scipy.org/doc/scipy/reference/generated/scipy.stats.chi2_contingency.html\n",
    "    "
   ]
  },
  {
   "cell_type": "code",
   "execution_count": 129,
   "metadata": {
    "scrolled": true
   },
   "outputs": [
    {
     "data": {
      "text/plain": [
       "array([[ 80.53846154,  80.53846154, 107.38461538,  80.53846154],\n",
       "       [ 34.84615385,  34.84615385,  46.46153846,  34.84615385],\n",
       "       [ 34.61538462,  34.61538462,  46.15384615,  34.61538462]])"
      ]
     },
     "execution_count": 129,
     "metadata": {},
     "output_type": "execute_result"
    }
   ],
   "source": [
    "chi2, p, dof, expectedValues = chi2_contingency(ObservedValues)\n",
    "# From the given population stats, this is the \"expected results\"\n",
    "expectedValues"
   ]
  },
  {
   "cell_type": "code",
   "execution_count": 130,
   "metadata": {},
   "outputs": [
    {
     "data": {
      "text/plain": [
       "array([[ 90,  60, 104,  95],\n",
       "       [ 30,  50,  51,  20],\n",
       "       [ 30,  40,  45,  35]])"
      ]
     },
     "execution_count": 130,
     "metadata": {},
     "output_type": "execute_result"
    }
   ],
   "source": [
    "# In practice the expected and observed results are close but not exact\n",
    "observedValues\n"
   ]
  },
  {
   "cell_type": "code",
   "execution_count": 137,
   "metadata": {},
   "outputs": [
    {
     "name": "stdout",
     "output_type": "stream",
     "text": [
      "Chi-Square:24.57120286\n"
     ]
    }
   ],
   "source": [
    "# The calculated Chi-Square value\n",
    "print(f\"Chi-Square:{chi2:.10g}\")"
   ]
  },
  {
   "cell_type": "markdown",
   "metadata": {},
   "source": [
    "This programming task was to verify that the example on the Wikipedia page [2] is accurate. \n",
    "\n",
    "[2] Chi-Sqaured Test https://en.wikipedia.org/wiki/Chi-squared_test\n",
    "\n",
    "Wiki Answer ≈ 24.6\n",
    "\n",
    "Scipy.stats Answer = 24.57120286\n",
    "\n",
    "24.6 ≈ 24.57120286!"
   ]
  },
  {
   "cell_type": "code",
   "execution_count": 140,
   "metadata": {
    "scrolled": true
   },
   "outputs": [
    {
     "name": "stdout",
     "output_type": "stream",
     "text": [
      "p-value:0.00040984\n"
     ]
    }
   ],
   "source": [
    "# The p value\n",
    "print(f\"p-value:{p:.5g}\")"
   ]
  },
  {
   "cell_type": "markdown",
   "metadata": {},
   "source": [
    "##### The Standard Deviation of an array of numbers.\n",
    "\n",
    "Within Microsoft Excel there are two different methods to calculate the standard deviation.\n",
    "\n",
    "STDEV.P - $$ np.sqrt(np.sum((x - np.mean(x))**2)/len(x) $$\n",
    "          $$ \\sigma = \\frac {\\sqrt{\\sum(x- \\mu)^2}}{n} $$\n",
    "\n",
    "Calculates the standard deviation of a population.\n",
    "\n",
    "STDEV.S - $$ np.sqrt(np.sum((x - np.mean(x))**2)/len(x)-1 $$\n",
    "          $$ s = \\frac {\\sqrt{\\sum(x- \\bar x)^2}}{n-1} $$\n",
    "      \n",
    "Calculates the standard deviation of a sample."
   ]
  },
  {
   "cell_type": "code",
   "execution_count": null,
   "metadata": {},
   "outputs": [],
   "source": [
    "# Python code to demonstrate stdev() function \n",
    "\n",
    "# importing Statistics module \n",
    "import statistics \n",
    "import numpy as np\n",
    "\n",
    "# creating a simple data - set \n",
    "sample = [1, 2, 3, 4, 5, 6, 7, 8, 9, 10, 11, 12, 13, 14, 15, 16, 17, 18, 19, 20] \n",
    "\n",
    "# Standard Deviation on a population\n",
    "print(\"Standard Deviation of sample is % s \"\n",
    "\t\t\t\t% (statistics.stdev(sample))) \n",
    "\n",
    "\n",
    "# Standard Deviation on a sample\n",
    "print(\"Standard Deviation of sample is % s \")\n",
    "np.std(sample, ddof=1)\n"
   ]
  }
 ],
 "metadata": {
  "kernelspec": {
   "display_name": "Python 3",
   "language": "python",
   "name": "python3"
  },
  "language_info": {
   "codemirror_mode": {
    "name": "ipython",
    "version": 3
   },
   "file_extension": ".py",
   "mimetype": "text/x-python",
   "name": "python",
   "nbconvert_exporter": "python",
   "pygments_lexer": "ipython3",
   "version": "3.7.3"
  }
 },
 "nbformat": 4,
 "nbformat_minor": 2
}
